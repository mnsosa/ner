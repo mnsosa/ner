{
 "cells": [
  {
   "cell_type": "markdown",
   "source": [
    "# NER using trained pipeline for Spanish\n",
    "\n",
    "#### @mnsosa\n"
   ],
   "metadata": {}
  },
  {
   "cell_type": "code",
   "execution_count": 184,
   "source": [
    "from spacy import displacy\n",
    "import spacy"
   ],
   "outputs": [],
   "metadata": {}
  },
  {
   "cell_type": "markdown",
   "source": [
    "## It's necessary to download the pipline. \n",
    "\n",
    "# _**python -m spacy download es_core_news_lg**_"
   ],
   "metadata": {}
  },
  {
   "cell_type": "code",
   "execution_count": 185,
   "source": [
    "nlp = spacy.load('es_core_news_lg')"
   ],
   "outputs": [],
   "metadata": {}
  },
  {
   "cell_type": "code",
   "execution_count": 186,
   "source": [
    "# read() – read all text from a file into a string. \n",
    "# This method is useful if you have a small file and you want to manipulate the whole text of that file.\n",
    "# readline() – read the text file line by line and return all the lines as strings.\n",
    "# readlines() – read all the lines of the text file and return them as a list of strings. \n",
    "open('text_eg_1.txt', 'r').read()"
   ],
   "outputs": [
    {
     "output_type": "execute_result",
     "data": {
      "text/plain": [
       "'Este caso se refiere al asesinato de Jorge Omar Gutiérrez, de un disparo en la nuca, el 29 de\\nagosto de 1994. Jorge era un subcomisario ejemplar de la Policía de la Provincia de Buenos\\nAires, que fue asesinado por un agente de la Policía Federal Argentina y los responsables\\nencubiertos por ambas fuerzas policiales. Al momento de los hechos, se encontraba\\ninvestigando un depósito inmediatamente vecino a la comisaria donde se desempeñaba,\\ncustodiado sospechosamente por miembros de la Policía Federal.\\nA pesar de las incansables gestiones de sus familiares, después de casi dieciocho años, el\\nEstado argentino no ha podido brindarles una respuesta judicial que les permita conocer la\\nverdad de lo sucedido e identificar y sancionar a los responsables materiales e intelectuales\\ndel crimen.\\nEn este hecho -que terminó siendo sólo una parte de lo que se conoció como el \"caso de la\\nAduana Paralela\"-, no sólo aparecen implicados en una compleja trama de ilegalidad,\\nmiembros de la policía federal sino también efectivos de la policía de la Provincia de Buenos\\nAires e inclusive represores condenados por crlmenes de lesa humanidad ocurridos durante la\\núltima dictadura militar, como Carlos Gallone. Esa trama es la que determinó la muerte de\\nJorge O. Gutiérrez y la impunidad de todos estos años.\\nHaber tenido que llegar a esta instancia de reclamo deja en evidencia las profundas\\nconsecuencias para el ejercicio de los derechos humanos que tienen en nuestro país !os\\ncasos en los que hay implicados agentes de fuerzas de seguridad, grupos de poder\\neconómicos y las deficiencias -o a veces directamente la ausencia~~ de resortes\\ninstitucionales capaces de penetrar estas tramas que consolidan pactos de impunidad en\\nhechos aberrantes, dentro de las cuales la complicidad de los operadores de la justicia\\nconstituye un punto nodal. '"
      ]
     },
     "metadata": {},
     "execution_count": 186
    }
   ],
   "metadata": {}
  },
  {
   "cell_type": "code",
   "execution_count": 187,
   "source": [
    "with open('text_eg_1.txt') as f:\n",
    "    text = f.read().strip('\\n')\n",
    "\n",
    "# Remove all \\n\n",
    "text_splitted = text.split('\\n')\n",
    "text_one_line = \"\"\n",
    "\n",
    "for t in text_splitted:\n",
    "    text_one_line = text_one_line + t + \" \"\n",
    "\n",
    "doc = nlp(text_one_line)"
   ],
   "outputs": [],
   "metadata": {}
  },
  {
   "cell_type": "code",
   "execution_count": 188,
   "source": [
    "doc.text"
   ],
   "outputs": [
    {
     "output_type": "execute_result",
     "data": {
      "text/plain": [
       "'Este caso se refiere al asesinato de Jorge Omar Gutiérrez, de un disparo en la nuca, el 29 de agosto de 1994. Jorge era un subcomisario ejemplar de la Policía de la Provincia de Buenos Aires, que fue asesinado por un agente de la Policía Federal Argentina y los responsables encubiertos por ambas fuerzas policiales. Al momento de los hechos, se encontraba investigando un depósito inmediatamente vecino a la comisaria donde se desempeñaba, custodiado sospechosamente por miembros de la Policía Federal. A pesar de las incansables gestiones de sus familiares, después de casi dieciocho años, el Estado argentino no ha podido brindarles una respuesta judicial que les permita conocer la verdad de lo sucedido e identificar y sancionar a los responsables materiales e intelectuales del crimen. En este hecho -que terminó siendo sólo una parte de lo que se conoció como el \"caso de la Aduana Paralela\"-, no sólo aparecen implicados en una compleja trama de ilegalidad, miembros de la policía federal sino también efectivos de la policía de la Provincia de Buenos Aires e inclusive represores condenados por crlmenes de lesa humanidad ocurridos durante la última dictadura militar, como Carlos Gallone. Esa trama es la que determinó la muerte de Jorge O. Gutiérrez y la impunidad de todos estos años. Haber tenido que llegar a esta instancia de reclamo deja en evidencia las profundas consecuencias para el ejercicio de los derechos humanos que tienen en nuestro país !os casos en los que hay implicados agentes de fuerzas de seguridad, grupos de poder económicos y las deficiencias -o a veces directamente la ausencia~~ de resortes institucionales capaces de penetrar estas tramas que consolidan pactos de impunidad en hechos aberrantes, dentro de las cuales la complicidad de los operadores de la justicia constituye un punto nodal.  '"
      ]
     },
     "metadata": {},
     "execution_count": 188
    }
   ],
   "metadata": {}
  },
  {
   "cell_type": "code",
   "execution_count": 189,
   "source": [
    "displacy.render(doc, style='ent')"
   ],
   "outputs": [
    {
     "output_type": "display_data",
     "data": {
      "text/html": [
       "<span class=\"tex2jax_ignore\"><div class=\"entities\" style=\"line-height: 2.5; direction: ltr\">Este caso se refiere al asesinato de \n",
       "<mark class=\"entity\" style=\"background: #ddd; padding: 0.45em 0.6em; margin: 0 0.25em; line-height: 1; border-radius: 0.35em;\">\n",
       "    Jorge Omar Gutiérrez\n",
       "    <span style=\"font-size: 0.8em; font-weight: bold; line-height: 1; border-radius: 0.35em; vertical-align: middle; margin-left: 0.5rem\">PER</span>\n",
       "</mark>\n",
       ", de un disparo en la nuca, el 29 de agosto de 1994. \n",
       "<mark class=\"entity\" style=\"background: #ddd; padding: 0.45em 0.6em; margin: 0 0.25em; line-height: 1; border-radius: 0.35em;\">\n",
       "    Jorge\n",
       "    <span style=\"font-size: 0.8em; font-weight: bold; line-height: 1; border-radius: 0.35em; vertical-align: middle; margin-left: 0.5rem\">PER</span>\n",
       "</mark>\n",
       " era un subcomisario ejemplar de la \n",
       "<mark class=\"entity\" style=\"background: #7aecec; padding: 0.45em 0.6em; margin: 0 0.25em; line-height: 1; border-radius: 0.35em;\">\n",
       "    Policía de la Provincia de Buenos Aires\n",
       "    <span style=\"font-size: 0.8em; font-weight: bold; line-height: 1; border-radius: 0.35em; vertical-align: middle; margin-left: 0.5rem\">ORG</span>\n",
       "</mark>\n",
       ", que fue asesinado por un agente de la \n",
       "<mark class=\"entity\" style=\"background: #7aecec; padding: 0.45em 0.6em; margin: 0 0.25em; line-height: 1; border-radius: 0.35em;\">\n",
       "    Policía Federal Argentina\n",
       "    <span style=\"font-size: 0.8em; font-weight: bold; line-height: 1; border-radius: 0.35em; vertical-align: middle; margin-left: 0.5rem\">ORG</span>\n",
       "</mark>\n",
       " y los responsables encubiertos por ambas fuerzas policiales. \n",
       "<mark class=\"entity\" style=\"background: #ddd; padding: 0.45em 0.6em; margin: 0 0.25em; line-height: 1; border-radius: 0.35em;\">\n",
       "    Al momento de los hechos\n",
       "    <span style=\"font-size: 0.8em; font-weight: bold; line-height: 1; border-radius: 0.35em; vertical-align: middle; margin-left: 0.5rem\">MISC</span>\n",
       "</mark>\n",
       ", se encontraba investigando un depósito inmediatamente vecino a la comisaria donde se desempeñaba, custodiado sospechosamente por miembros de la \n",
       "<mark class=\"entity\" style=\"background: #7aecec; padding: 0.45em 0.6em; margin: 0 0.25em; line-height: 1; border-radius: 0.35em;\">\n",
       "    Policía Federal\n",
       "    <span style=\"font-size: 0.8em; font-weight: bold; line-height: 1; border-radius: 0.35em; vertical-align: middle; margin-left: 0.5rem\">ORG</span>\n",
       "</mark>\n",
       ". A pesar de las incansables gestiones de sus familiares, después de casi dieciocho años, el \n",
       "<mark class=\"entity\" style=\"background: #ff9561; padding: 0.45em 0.6em; margin: 0 0.25em; line-height: 1; border-radius: 0.35em;\">\n",
       "    Estado argentino\n",
       "    <span style=\"font-size: 0.8em; font-weight: bold; line-height: 1; border-radius: 0.35em; vertical-align: middle; margin-left: 0.5rem\">LOC</span>\n",
       "</mark>\n",
       " no ha podido brindarles una respuesta judicial que les permita conocer la verdad de lo sucedido e identificar y sancionar a los responsables materiales e intelectuales del crimen. En este hecho -que terminó siendo sólo una parte de lo que se conoció como el &quot;caso de la \n",
       "<mark class=\"entity\" style=\"background: #7aecec; padding: 0.45em 0.6em; margin: 0 0.25em; line-height: 1; border-radius: 0.35em;\">\n",
       "    Aduana\n",
       "    <span style=\"font-size: 0.8em; font-weight: bold; line-height: 1; border-radius: 0.35em; vertical-align: middle; margin-left: 0.5rem\">ORG</span>\n",
       "</mark>\n",
       " Paralela&quot;-, no sólo aparecen implicados en una compleja trama de ilegalidad, miembros de la policía federal sino también efectivos de la policía de la \n",
       "<mark class=\"entity\" style=\"background: #ff9561; padding: 0.45em 0.6em; margin: 0 0.25em; line-height: 1; border-radius: 0.35em;\">\n",
       "    Provincia de Buenos Aires\n",
       "    <span style=\"font-size: 0.8em; font-weight: bold; line-height: 1; border-radius: 0.35em; vertical-align: middle; margin-left: 0.5rem\">LOC</span>\n",
       "</mark>\n",
       " e inclusive represores condenados por crlmenes de lesa humanidad ocurridos durante la última dictadura militar, como \n",
       "<mark class=\"entity\" style=\"background: #ddd; padding: 0.45em 0.6em; margin: 0 0.25em; line-height: 1; border-radius: 0.35em;\">\n",
       "    Carlos Gallone\n",
       "    <span style=\"font-size: 0.8em; font-weight: bold; line-height: 1; border-radius: 0.35em; vertical-align: middle; margin-left: 0.5rem\">PER</span>\n",
       "</mark>\n",
       ". Esa trama es la que determinó la muerte de \n",
       "<mark class=\"entity\" style=\"background: #ddd; padding: 0.45em 0.6em; margin: 0 0.25em; line-height: 1; border-radius: 0.35em;\">\n",
       "    Jorge O. Gutiérrez\n",
       "    <span style=\"font-size: 0.8em; font-weight: bold; line-height: 1; border-radius: 0.35em; vertical-align: middle; margin-left: 0.5rem\">PER</span>\n",
       "</mark>\n",
       " y la impunidad de todos estos años. Haber tenido que llegar a esta instancia de reclamo deja en evidencia las profundas consecuencias para el ejercicio de los derechos humanos que tienen en nuestro país !os casos en los que hay implicados agentes de fuerzas de seguridad, grupos de poder económicos y las deficiencias -o a veces directamente la ausencia~~ de resortes institucionales capaces de penetrar estas tramas que consolidan pactos de impunidad en hechos aberrantes, dentro de las cuales la complicidad de los operadores de la justicia constituye un punto nodal.  </div></span>"
      ],
      "text/plain": [
       "<IPython.core.display.HTML object>"
      ]
     },
     "metadata": {}
    }
   ],
   "metadata": {}
  },
  {
   "cell_type": "code",
   "execution_count": 190,
   "source": [
    "for ent in doc.ents:\n",
    "    print(ent.text, ent.start_char, ent.end_char, ent.label_)"
   ],
   "outputs": [
    {
     "output_type": "stream",
     "name": "stdout",
     "text": [
      "Jorge Omar Gutiérrez 37 57 PER\n",
      "Jorge 110 115 PER\n",
      "Policía de la Provincia de Buenos Aires 151 190 ORG\n",
      "Policía Federal Argentina 230 255 ORG\n",
      "Al momento de los hechos 317 341 MISC\n",
      "Policía Federal 487 502 ORG\n",
      "Estado argentino 595 611 LOC\n",
      "Aduana 882 888 ORG\n",
      "Provincia de Buenos Aires 1040 1065 LOC\n",
      "Carlos Gallone 1183 1197 PER\n",
      "Jorge O. Gutiérrez 1242 1260 PER\n"
     ]
    }
   ],
   "metadata": {}
  },
  {
   "cell_type": "markdown",
   "source": [
    "# Anonymizing the text"
   ],
   "metadata": {}
  },
  {
   "cell_type": "markdown",
   "source": [
    "## **IDEA**: \n",
    "### To copy and paste the paragraph between a start_char and a end_char for each PER entity. \n",
    "### Then replace the PER entity with \"<NOMBRE>\" (means 'name' in spanish)."
   ],
   "metadata": {}
  },
  {
   "cell_type": "code",
   "execution_count": 191,
   "source": [
    "doc.text[doc.ents[0].start_char:doc.ents[0].end_char]"
   ],
   "outputs": [
    {
     "output_type": "execute_result",
     "data": {
      "text/plain": [
       "'Jorge Omar Gutiérrez'"
      ]
     },
     "metadata": {},
     "execution_count": 191
    }
   ],
   "metadata": {}
  },
  {
   "cell_type": "code",
   "execution_count": 192,
   "source": [
    "# The start_char of each entity PER\n",
    "per_starts = [ent.start_char for ent in doc.ents if ent.label_ == 'PER']\n",
    "\n",
    "# The end_char of each entity PER\n",
    "per_ends = [ent.end_char for ent in doc.ents if ent.label_ == 'PER']\n",
    "\n",
    "print(f'per_start: {per_starts}\\nper_ends: {per_ends}')"
   ],
   "outputs": [
    {
     "output_type": "stream",
     "name": "stdout",
     "text": [
      "per_start: [37, 110, 1183, 1242]\n",
      "per_ends: [57, 115, 1197, 1260]\n"
     ]
    }
   ],
   "metadata": {}
  },
  {
   "cell_type": "code",
   "execution_count": 193,
   "source": [
    "print(f\"The start of the person 0: {per_starts[0]}\")\n",
    "print(f\"The end of the person 0: {per_ends[0]}\")"
   ],
   "outputs": [
    {
     "output_type": "stream",
     "name": "stdout",
     "text": [
      "The start of the person 0: 37\n",
      "The end of the person 0: 57\n"
     ]
    }
   ],
   "metadata": {}
  },
  {
   "cell_type": "code",
   "execution_count": 194,
   "source": [
    "# Anonymization\n",
    "text_anon = doc.text[0:per_starts[0]]\n",
    "text_anon = text_anon + '<NOMBRE>'\n",
    "\n",
    "per = 1\n",
    "while per < len(per_starts):\n",
    "    text_anon = text_anon + doc.text[per_ends[per-1]:per_starts[per]] + '<NOMBRE> '\n",
    "    per = per + 1\n",
    "    "
   ],
   "outputs": [],
   "metadata": {}
  },
  {
   "cell_type": "code",
   "execution_count": 195,
   "source": [
    "text_anon"
   ],
   "outputs": [
    {
     "output_type": "execute_result",
     "data": {
      "text/plain": [
       "'Este caso se refiere al asesinato de <NOMBRE>, de un disparo en la nuca, el 29 de agosto de 1994. <NOMBRE>  era un subcomisario ejemplar de la Policía de la Provincia de Buenos Aires, que fue asesinado por un agente de la Policía Federal Argentina y los responsables encubiertos por ambas fuerzas policiales. Al momento de los hechos, se encontraba investigando un depósito inmediatamente vecino a la comisaria donde se desempeñaba, custodiado sospechosamente por miembros de la Policía Federal. A pesar de las incansables gestiones de sus familiares, después de casi dieciocho años, el Estado argentino no ha podido brindarles una respuesta judicial que les permita conocer la verdad de lo sucedido e identificar y sancionar a los responsables materiales e intelectuales del crimen. En este hecho -que terminó siendo sólo una parte de lo que se conoció como el \"caso de la Aduana Paralela\"-, no sólo aparecen implicados en una compleja trama de ilegalidad, miembros de la policía federal sino también efectivos de la policía de la Provincia de Buenos Aires e inclusive represores condenados por crlmenes de lesa humanidad ocurridos durante la última dictadura militar, como <NOMBRE> . Esa trama es la que determinó la muerte de <NOMBRE> '"
      ]
     },
     "metadata": {},
     "execution_count": 195
    }
   ],
   "metadata": {}
  },
  {
   "cell_type": "code",
   "execution_count": 196,
   "source": [
    "doc.text"
   ],
   "outputs": [
    {
     "output_type": "execute_result",
     "data": {
      "text/plain": [
       "'Este caso se refiere al asesinato de Jorge Omar Gutiérrez, de un disparo en la nuca, el 29 de agosto de 1994. Jorge era un subcomisario ejemplar de la Policía de la Provincia de Buenos Aires, que fue asesinado por un agente de la Policía Federal Argentina y los responsables encubiertos por ambas fuerzas policiales. Al momento de los hechos, se encontraba investigando un depósito inmediatamente vecino a la comisaria donde se desempeñaba, custodiado sospechosamente por miembros de la Policía Federal. A pesar de las incansables gestiones de sus familiares, después de casi dieciocho años, el Estado argentino no ha podido brindarles una respuesta judicial que les permita conocer la verdad de lo sucedido e identificar y sancionar a los responsables materiales e intelectuales del crimen. En este hecho -que terminó siendo sólo una parte de lo que se conoció como el \"caso de la Aduana Paralela\"-, no sólo aparecen implicados en una compleja trama de ilegalidad, miembros de la policía federal sino también efectivos de la policía de la Provincia de Buenos Aires e inclusive represores condenados por crlmenes de lesa humanidad ocurridos durante la última dictadura militar, como Carlos Gallone. Esa trama es la que determinó la muerte de Jorge O. Gutiérrez y la impunidad de todos estos años. Haber tenido que llegar a esta instancia de reclamo deja en evidencia las profundas consecuencias para el ejercicio de los derechos humanos que tienen en nuestro país !os casos en los que hay implicados agentes de fuerzas de seguridad, grupos de poder económicos y las deficiencias -o a veces directamente la ausencia~~ de resortes institucionales capaces de penetrar estas tramas que consolidan pactos de impunidad en hechos aberrantes, dentro de las cuales la complicidad de los operadores de la justicia constituye un punto nodal.  '"
      ]
     },
     "metadata": {},
     "execution_count": 196
    }
   ],
   "metadata": {}
  },
  {
   "cell_type": "markdown",
   "source": [
    "# Testing doc attributes\n",
    "Just for learning :)"
   ],
   "metadata": {}
  },
  {
   "cell_type": "code",
   "execution_count": 197,
   "source": [
    "T = doc.text.split(\"\\n\")\n",
    "T2 = \"\"\n",
    "\n",
    "for t in T:\n",
    "    T2 = T2 + t\n",
    "\n",
    "T2"
   ],
   "outputs": [
    {
     "output_type": "execute_result",
     "data": {
      "text/plain": [
       "'Este caso se refiere al asesinato de Jorge Omar Gutiérrez, de un disparo en la nuca, el 29 de agosto de 1994. Jorge era un subcomisario ejemplar de la Policía de la Provincia de Buenos Aires, que fue asesinado por un agente de la Policía Federal Argentina y los responsables encubiertos por ambas fuerzas policiales. Al momento de los hechos, se encontraba investigando un depósito inmediatamente vecino a la comisaria donde se desempeñaba, custodiado sospechosamente por miembros de la Policía Federal. A pesar de las incansables gestiones de sus familiares, después de casi dieciocho años, el Estado argentino no ha podido brindarles una respuesta judicial que les permita conocer la verdad de lo sucedido e identificar y sancionar a los responsables materiales e intelectuales del crimen. En este hecho -que terminó siendo sólo una parte de lo que se conoció como el \"caso de la Aduana Paralela\"-, no sólo aparecen implicados en una compleja trama de ilegalidad, miembros de la policía federal sino también efectivos de la policía de la Provincia de Buenos Aires e inclusive represores condenados por crlmenes de lesa humanidad ocurridos durante la última dictadura militar, como Carlos Gallone. Esa trama es la que determinó la muerte de Jorge O. Gutiérrez y la impunidad de todos estos años. Haber tenido que llegar a esta instancia de reclamo deja en evidencia las profundas consecuencias para el ejercicio de los derechos humanos que tienen en nuestro país !os casos en los que hay implicados agentes de fuerzas de seguridad, grupos de poder económicos y las deficiencias -o a veces directamente la ausencia~~ de resortes institucionales capaces de penetrar estas tramas que consolidan pactos de impunidad en hechos aberrantes, dentro de las cuales la complicidad de los operadores de la justicia constituye un punto nodal.  '"
      ]
     },
     "metadata": {},
     "execution_count": 197
    }
   ],
   "metadata": {}
  },
  {
   "cell_type": "code",
   "execution_count": 198,
   "source": [
    "doc.tensor.shape"
   ],
   "outputs": [
    {
     "output_type": "execute_result",
     "data": {
      "text/plain": [
       "(317, 96)"
      ]
     },
     "metadata": {},
     "execution_count": 198
    }
   ],
   "metadata": {}
  },
  {
   "cell_type": "code",
   "execution_count": 199,
   "source": [
    "nlp.pipeline"
   ],
   "outputs": [
    {
     "output_type": "execute_result",
     "data": {
      "text/plain": [
       "[('tok2vec', <spacy.pipeline.tok2vec.Tok2Vec at 0x7fad4ad09f90>),\n",
       " ('morphologizer',\n",
       "  <spacy.pipeline.morphologizer.Morphologizer at 0x7fad4ad25770>),\n",
       " ('parser', <spacy.pipeline.dep_parser.DependencyParser at 0x7fad4acf5580>),\n",
       " ('attribute_ruler',\n",
       "  <spacy.pipeline.attributeruler.AttributeRuler at 0x7fad4acd5380>),\n",
       " ('lemmatizer',\n",
       "  <spacy.lang.es.lemmatizer.SpanishLemmatizer at 0x7fad4ac74100>),\n",
       " ('ner', <spacy.pipeline.ner.EntityRecognizer at 0x7fad4ad7df40>)]"
      ]
     },
     "metadata": {},
     "execution_count": 199
    }
   ],
   "metadata": {}
  },
  {
   "cell_type": "code",
   "execution_count": 200,
   "source": [
    "len(doc.text.split(\" \"))"
   ],
   "outputs": [
    {
     "output_type": "execute_result",
     "data": {
      "text/plain": [
       "297"
      ]
     },
     "metadata": {},
     "execution_count": 200
    }
   ],
   "metadata": {}
  },
  {
   "cell_type": "code",
   "execution_count": 201,
   "source": [
    "doc.text"
   ],
   "outputs": [
    {
     "output_type": "execute_result",
     "data": {
      "text/plain": [
       "'Este caso se refiere al asesinato de Jorge Omar Gutiérrez, de un disparo en la nuca, el 29 de agosto de 1994. Jorge era un subcomisario ejemplar de la Policía de la Provincia de Buenos Aires, que fue asesinado por un agente de la Policía Federal Argentina y los responsables encubiertos por ambas fuerzas policiales. Al momento de los hechos, se encontraba investigando un depósito inmediatamente vecino a la comisaria donde se desempeñaba, custodiado sospechosamente por miembros de la Policía Federal. A pesar de las incansables gestiones de sus familiares, después de casi dieciocho años, el Estado argentino no ha podido brindarles una respuesta judicial que les permita conocer la verdad de lo sucedido e identificar y sancionar a los responsables materiales e intelectuales del crimen. En este hecho -que terminó siendo sólo una parte de lo que se conoció como el \"caso de la Aduana Paralela\"-, no sólo aparecen implicados en una compleja trama de ilegalidad, miembros de la policía federal sino también efectivos de la policía de la Provincia de Buenos Aires e inclusive represores condenados por crlmenes de lesa humanidad ocurridos durante la última dictadura militar, como Carlos Gallone. Esa trama es la que determinó la muerte de Jorge O. Gutiérrez y la impunidad de todos estos años. Haber tenido que llegar a esta instancia de reclamo deja en evidencia las profundas consecuencias para el ejercicio de los derechos humanos que tienen en nuestro país !os casos en los que hay implicados agentes de fuerzas de seguridad, grupos de poder económicos y las deficiencias -o a veces directamente la ausencia~~ de resortes institucionales capaces de penetrar estas tramas que consolidan pactos de impunidad en hechos aberrantes, dentro de las cuales la complicidad de los operadores de la justicia constituye un punto nodal.  '"
      ]
     },
     "metadata": {},
     "execution_count": 201
    }
   ],
   "metadata": {}
  },
  {
   "cell_type": "code",
   "execution_count": 202,
   "source": [
    "doc.ents"
   ],
   "outputs": [
    {
     "output_type": "execute_result",
     "data": {
      "text/plain": [
       "(Jorge Omar Gutiérrez,\n",
       " Jorge,\n",
       " Policía de la Provincia de Buenos Aires,\n",
       " Policía Federal Argentina,\n",
       " Al momento de los hechos,\n",
       " Policía Federal,\n",
       " Estado argentino,\n",
       " Aduana,\n",
       " Provincia de Buenos Aires,\n",
       " Carlos Gallone,\n",
       " Jorge O. Gutiérrez)"
      ]
     },
     "metadata": {},
     "execution_count": 202
    }
   ],
   "metadata": {}
  },
  {
   "cell_type": "code",
   "execution_count": 203,
   "source": [
    "doc.vector.shape"
   ],
   "outputs": [
    {
     "output_type": "execute_result",
     "data": {
      "text/plain": [
       "(300,)"
      ]
     },
     "metadata": {},
     "execution_count": 203
    }
   ],
   "metadata": {}
  },
  {
   "cell_type": "markdown",
   "source": [
    "# Bibliography\n",
    "<https://spacy.io/models/es#es_dep_news_trf>\n",
    "\n",
    "<https://www.youtube.com/watch?v=uoBD3XjGD6s>\n",
    "\n",
    "<https://towardsdatascience.com/ner-with-transformers-and-spacy-b3240bc65eb4>"
   ],
   "metadata": {}
  }
 ],
 "metadata": {
  "orig_nbformat": 4,
  "language_info": {
   "name": "python",
   "version": "3.8.10",
   "mimetype": "text/x-python",
   "codemirror_mode": {
    "name": "ipython",
    "version": 3
   },
   "pygments_lexer": "ipython3",
   "nbconvert_exporter": "python",
   "file_extension": ".py"
  },
  "kernelspec": {
   "name": "python3",
   "display_name": "Python 3.8.10 64-bit ('ner': venv)"
  },
  "interpreter": {
   "hash": "893b666a551b43f16ff990d917a146fa3a9cd1c0a98716beeaa2ebd076cc0884"
  }
 },
 "nbformat": 4,
 "nbformat_minor": 2
}